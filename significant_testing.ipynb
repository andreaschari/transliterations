{
 "cells": [
  {
   "cell_type": "code",
   "execution_count": 1,
   "metadata": {},
   "outputs": [],
   "source": [
    "import pyterrier as pt\n",
    "from ir_measures import R, MRR, nDCG"
   ]
  },
  {
   "cell_type": "code",
   "execution_count": 2,
   "metadata": {},
   "outputs": [
    {
     "name": "stdout",
     "output_type": "stream",
     "text": [
      "Loaded 6980 queries\n"
     ]
    }
   ],
   "source": [
    "dataset = pt.get_dataset(\"irds:mmarco/v2/zh/dev/small\")\n",
    "queries_orig = dataset.get_topics(tokenise_query=False)\n",
    "\n",
    "# print no. of queries\n",
    "print(f\"Loaded {len(queries_orig)} queries\")"
   ]
  },
  {
   "cell_type": "markdown",
   "metadata": {},
   "source": [
    "## Native Results"
   ]
  },
  {
   "cell_type": "code",
   "execution_count": 8,
   "metadata": {},
   "outputs": [],
   "source": [
    "res_baseline_path = \"/root/nfs/CLIR/data/retrieval_results/mt5/mt5_bgem3_mmarcov2_ru_trans_uro.res.gz\"\n",
    "res_native_path = \"/root/nfs/CLIR/data/retrieval_results/mt5_ru_native/mt5_ru_native_bgem3_ru_native_mmarcov2_ru_trans_uro.res.gz\"\n",
    "res_mixed_path = \"/root/nfs/CLIR/data/retrieval_results/mt5_ru_50/mt5_ru_50_bgem3_ru-50_mmarcov2_ru_trans_uro.res.gz\"\n",
    "res_translit_path = \"/root/nfs/CLIR/data/retrieval_results/mt5_ru_translit/mt5_ru_translit_bgem3_ru_translit_mmarcov2_ru_trans_uro.res.gz\""
   ]
  },
  {
   "cell_type": "code",
   "execution_count": 9,
   "metadata": {},
   "outputs": [],
   "source": [
    "res_baseline = pt.io.read_results(res_baseline_path)\n",
    "res_native = pt.io.read_results(res_native_path)\n",
    "res_mixed = pt.io.read_results(res_mixed_path)\n",
    "res_translit = pt.io.read_results(res_translit_path)"
   ]
  },
  {
   "cell_type": "code",
   "execution_count": 10,
   "metadata": {},
   "outputs": [],
   "source": [
    "metrics = [MRR@10, R@1000]"
   ]
  },
  {
   "cell_type": "code",
   "execution_count": 11,
   "metadata": {},
   "outputs": [],
   "source": [
    "experiment = pt.Experiment(\n",
    "    [res_baseline, res_native, res_mixed, res_translit],\n",
    "    dataset.get_topics(),\n",
    "    dataset.get_qrels(),\n",
    "    metrics,\n",
    "    names=[\"baseline\", \"native\", \"mixed\", \"translit\"],\n",
    "    baseline=0,\n",
    "    correction='b'\n",
    ")"
   ]
  },
  {
   "cell_type": "code",
   "execution_count": 12,
   "metadata": {},
   "outputs": [
    {
     "data": {
      "text/html": [
       "<div>\n",
       "<style scoped>\n",
       "    .dataframe tbody tr th:only-of-type {\n",
       "        vertical-align: middle;\n",
       "    }\n",
       "\n",
       "    .dataframe tbody tr th {\n",
       "        vertical-align: top;\n",
       "    }\n",
       "\n",
       "    .dataframe thead th {\n",
       "        text-align: right;\n",
       "    }\n",
       "</style>\n",
       "<table border=\"1\" class=\"dataframe\">\n",
       "  <thead>\n",
       "    <tr style=\"text-align: right;\">\n",
       "      <th></th>\n",
       "      <th>name</th>\n",
       "      <th>R@1000</th>\n",
       "      <th>RR@10</th>\n",
       "      <th>R@1000 +</th>\n",
       "      <th>R@1000 -</th>\n",
       "      <th>R@1000 p-value</th>\n",
       "      <th>R@1000 reject</th>\n",
       "      <th>R@1000 p-value corrected</th>\n",
       "      <th>RR@10 +</th>\n",
       "      <th>RR@10 -</th>\n",
       "      <th>RR@10 p-value</th>\n",
       "      <th>RR@10 reject</th>\n",
       "      <th>RR@10 p-value corrected</th>\n",
       "    </tr>\n",
       "  </thead>\n",
       "  <tbody>\n",
       "    <tr>\n",
       "      <th>0</th>\n",
       "      <td>baseline</td>\n",
       "      <td>0.658894</td>\n",
       "      <td>0.194805</td>\n",
       "      <td>NaN</td>\n",
       "      <td>NaN</td>\n",
       "      <td>NaN</td>\n",
       "      <td>False</td>\n",
       "      <td>NaN</td>\n",
       "      <td>NaN</td>\n",
       "      <td>NaN</td>\n",
       "      <td>NaN</td>\n",
       "      <td>False</td>\n",
       "      <td>NaN</td>\n",
       "    </tr>\n",
       "    <tr>\n",
       "      <th>1</th>\n",
       "      <td>native</td>\n",
       "      <td>0.592538</td>\n",
       "      <td>0.119237</td>\n",
       "      <td>477.0</td>\n",
       "      <td>950.0</td>\n",
       "      <td>1.007094e-36</td>\n",
       "      <td>True</td>\n",
       "      <td>3.021283e-36</td>\n",
       "      <td>671.0</td>\n",
       "      <td>1787.0</td>\n",
       "      <td>1.136049e-99</td>\n",
       "      <td>True</td>\n",
       "      <td>3.408148e-99</td>\n",
       "    </tr>\n",
       "    <tr>\n",
       "      <th>2</th>\n",
       "      <td>mixed</td>\n",
       "      <td>0.889494</td>\n",
       "      <td>0.233910</td>\n",
       "      <td>1758.0</td>\n",
       "      <td>110.0</td>\n",
       "      <td>0.000000e+00</td>\n",
       "      <td>True</td>\n",
       "      <td>0.000000e+00</td>\n",
       "      <td>1684.0</td>\n",
       "      <td>1087.0</td>\n",
       "      <td>2.565933e-29</td>\n",
       "      <td>True</td>\n",
       "      <td>7.697799e-29</td>\n",
       "    </tr>\n",
       "    <tr>\n",
       "      <th>3</th>\n",
       "      <td>translit</td>\n",
       "      <td>0.896323</td>\n",
       "      <td>0.252152</td>\n",
       "      <td>1802.0</td>\n",
       "      <td>102.0</td>\n",
       "      <td>0.000000e+00</td>\n",
       "      <td>True</td>\n",
       "      <td>0.000000e+00</td>\n",
       "      <td>1819.0</td>\n",
       "      <td>1032.0</td>\n",
       "      <td>1.213243e-56</td>\n",
       "      <td>True</td>\n",
       "      <td>3.639728e-56</td>\n",
       "    </tr>\n",
       "  </tbody>\n",
       "</table>\n",
       "</div>"
      ],
      "text/plain": [
       "       name    R@1000     RR@10  R@1000 +  R@1000 -  R@1000 p-value  \\\n",
       "0  baseline  0.658894  0.194805       NaN       NaN             NaN   \n",
       "1    native  0.592538  0.119237     477.0     950.0    1.007094e-36   \n",
       "2     mixed  0.889494  0.233910    1758.0     110.0    0.000000e+00   \n",
       "3  translit  0.896323  0.252152    1802.0     102.0    0.000000e+00   \n",
       "\n",
       "   R@1000 reject  R@1000 p-value corrected  RR@10 +  RR@10 -  RR@10 p-value  \\\n",
       "0          False                       NaN      NaN      NaN            NaN   \n",
       "1           True              3.021283e-36    671.0   1787.0   1.136049e-99   \n",
       "2           True              0.000000e+00   1684.0   1087.0   2.565933e-29   \n",
       "3           True              0.000000e+00   1819.0   1032.0   1.213243e-56   \n",
       "\n",
       "   RR@10 reject  RR@10 p-value corrected  \n",
       "0         False                      NaN  \n",
       "1          True             3.408148e-99  \n",
       "2          True             7.697799e-29  \n",
       "3          True             3.639728e-56  "
      ]
     },
     "execution_count": 12,
     "metadata": {},
     "output_type": "execute_result"
    }
   ],
   "source": [
    "experiment"
   ]
  },
  {
   "cell_type": "code",
   "execution_count": null,
   "metadata": {},
   "outputs": [],
   "source": []
  }
 ],
 "metadata": {
  "kernelspec": {
   "display_name": "flagembedding",
   "language": "python",
   "name": "python3"
  },
  "language_info": {
   "codemirror_mode": {
    "name": "ipython",
    "version": 3
   },
   "file_extension": ".py",
   "mimetype": "text/x-python",
   "name": "python",
   "nbconvert_exporter": "python",
   "pygments_lexer": "ipython3",
   "version": "3.10.13"
  }
 },
 "nbformat": 4,
 "nbformat_minor": 2
}
