{
 "cells": [
  {
   "cell_type": "code",
   "execution_count": 1,
   "metadata": {},
   "outputs": [
    {
     "name": "stderr",
     "output_type": "stream",
     "text": [
      "/opt/miniconda3/envs/flagembedding/lib/python3.10/site-packages/tqdm/auto.py:21: TqdmWarning: IProgress not found. Please update jupyter and ipywidgets. See https://ipywidgets.readthedocs.io/en/stable/user_install.html\n",
      "  from .autonotebook import tqdm as notebook_tqdm\n"
     ]
    }
   ],
   "source": [
    "import argparse\n",
    "import pyterrier as pt\n",
    "import pandas as pd\n",
    "import os\n",
    "import logging\n",
    "from pyterrier_dr import BGEM3, FlexIndex\n",
    "from ir_measures import R, MRR, nDCG"
   ]
  },
  {
   "cell_type": "markdown",
   "metadata": {},
   "source": [
    "# Load Queries"
   ]
  },
  {
   "cell_type": "code",
   "execution_count": 2,
   "metadata": {},
   "outputs": [],
   "source": [
    "trec_year = \"2023\""
   ]
  },
  {
   "cell_type": "code",
   "execution_count": 3,
   "metadata": {},
   "outputs": [
    {
     "name": "stdout",
     "output_type": "stream",
     "text": [
      "There are multiple query fields available: ('title', 'description', 'narrative', 'ht_title', 'ht_description', 'mt_title', 'mt_description', 'mt_narrative', 'translation_lang'). To use with pyterrier, provide variant or modify dataframe to add query column.\n",
      "Loaded 76 queries for irds:neuclir/1/zh/trec-2023 (HT)\n"
     ]
    }
   ],
   "source": [
    "dataset = pt.get_dataset(f\"irds:neuclir/1/zh/trec-{trec_year}\")\n",
    "queries_orig = dataset.get_topics(tokenise_query=False)\n",
    "# only use ht_title and mt_title\n",
    "queries_orig = queries_orig[[\"qid\", \"ht_title\"]]\n",
    "queries_orig = queries_orig.rename(columns={\"ht_title\": \"query\"})\n",
    "\n",
    "# print no. of queries\n",
    "print(f\"Loaded {len(queries_orig)} queries for irds:neuclir/1/zh/trec-{trec_year} (HT)\")"
   ]
  },
  {
   "cell_type": "code",
   "execution_count": 4,
   "metadata": {},
   "outputs": [
    {
     "name": "stdout",
     "output_type": "stream",
     "text": [
      "Loaded 76 queries for transliterated irds:neuclir/1/zh/trec-2023 (HT)\n"
     ]
    }
   ],
   "source": [
    "# pre-process transliterated queries (assumes they are already tokenized before romanisation)\n",
    "queries_translit = pd.read_csv(f\"/root/nfs/CLIR/data/transliterations/neuclir_1_zh_trec-{trec_year}_uroman.tsv\", sep=\"\\t\", header=None, names=[\"qid\", \"ht_title\", \"mt_title\", \"ht_description\"])\n",
    "queries_translit[\"qid\"] = queries_translit[\"qid\"].astype(str)\n",
    "queries_translit[\"ht_title\"] = queries_translit[\"ht_title\"].astype(str)\n",
    "queries_translit[\"mt_title\"] = queries_translit[\"mt_title\"].astype(str)\n",
    "queries_translit[\"ht_description\"] = queries_translit[\"ht_description\"].astype(str)\n",
    "queries_translit = queries_translit.rename(columns={\"ht_title\": \"query\"})\n",
    "print(f\"Loaded {len(queries_translit)} queries for transliterated irds:neuclir/1/zh/trec-{trec_year} (HT)\")"
   ]
  },
  {
   "cell_type": "code",
   "execution_count": 5,
   "metadata": {},
   "outputs": [
    {
     "data": {
      "text/html": [
       "<div>\n",
       "<style scoped>\n",
       "    .dataframe tbody tr th:only-of-type {\n",
       "        vertical-align: middle;\n",
       "    }\n",
       "\n",
       "    .dataframe tbody tr th {\n",
       "        vertical-align: top;\n",
       "    }\n",
       "\n",
       "    .dataframe thead th {\n",
       "        text-align: right;\n",
       "    }\n",
       "</style>\n",
       "<table border=\"1\" class=\"dataframe\">\n",
       "  <thead>\n",
       "    <tr style=\"text-align: right;\">\n",
       "      <th></th>\n",
       "      <th>qid</th>\n",
       "      <th>query</th>\n",
       "      <th>mt_title</th>\n",
       "      <th>ht_description</th>\n",
       "    </tr>\n",
       "  </thead>\n",
       "  <tbody>\n",
       "    <tr>\n",
       "      <th>0</th>\n",
       "      <td>200</td>\n",
       "      <td>aoweihuitanwuhuilu</td>\n",
       "      <td>fubaihuilutiyulianhehuiaoyunhui</td>\n",
       "      <td>tiyujieshifouyoujigouxingfubaihehuiludenganjian?</td>\n",
       "    </tr>\n",
       "    <tr>\n",
       "      <th>1</th>\n",
       "      <td>201</td>\n",
       "      <td>zhongguozaiyilangdetouzi</td>\n",
       "      <td>zhongguoduiyilangdetouzi</td>\n",
       "      <td>zhongguozaiyilangtouzilenaxiechanye?</td>\n",
       "    </tr>\n",
       "    <tr>\n",
       "      <th>2</th>\n",
       "      <td>202</td>\n",
       "      <td>xinxingjishu, jingzhunnongye, zhinengnongye, n...</td>\n",
       "      <td>xinxingjishu, jingquenongye, zhinengnongye, no...</td>\n",
       "      <td>zhengzaigaibiannongyechanyedezuixinxinxingjish...</td>\n",
       "    </tr>\n",
       "    <tr>\n",
       "      <th>3</th>\n",
       "      <td>203</td>\n",
       "      <td>zhangcilungeqian</td>\n",
       "      <td>cengjingbeikazhule</td>\n",
       "      <td>chazhaoyouguanzhangcilunzaisuyishiyunhegeqiand...</td>\n",
       "    </tr>\n",
       "    <tr>\n",
       "      <th>4</th>\n",
       "      <td>204</td>\n",
       "      <td>chufaxingfenjiyundongtingzhi</td>\n",
       "      <td>dianqiuxingfenjiyundongtingzhi</td>\n",
       "      <td>shiyongshenmeceelaijianshao/tingzhizaitiyuyund...</td>\n",
       "    </tr>\n",
       "  </tbody>\n",
       "</table>\n",
       "</div>"
      ],
      "text/plain": [
       "   qid                                              query  \\\n",
       "0  200                                 aoweihuitanwuhuilu   \n",
       "1  201                           zhongguozaiyilangdetouzi   \n",
       "2  202  xinxingjishu, jingzhunnongye, zhinengnongye, n...   \n",
       "3  203                                   zhangcilungeqian   \n",
       "4  204                       chufaxingfenjiyundongtingzhi   \n",
       "\n",
       "                                            mt_title  \\\n",
       "0                    fubaihuilutiyulianhehuiaoyunhui   \n",
       "1                           zhongguoduiyilangdetouzi   \n",
       "2  xinxingjishu, jingquenongye, zhinengnongye, no...   \n",
       "3                                 cengjingbeikazhule   \n",
       "4                     dianqiuxingfenjiyundongtingzhi   \n",
       "\n",
       "                                      ht_description  \n",
       "0   tiyujieshifouyoujigouxingfubaihehuiludenganjian?  \n",
       "1               zhongguozaiyilangtouzilenaxiechanye?  \n",
       "2  zhengzaigaibiannongyechanyedezuixinxinxingjish...  \n",
       "3  chazhaoyouguanzhangcilunzaisuyishiyunhegeqiand...  \n",
       "4  shiyongshenmeceelaijianshao/tingzhizaitiyuyund...  "
      ]
     },
     "execution_count": 5,
     "metadata": {},
     "output_type": "execute_result"
    }
   ],
   "source": [
    "queries_translit.head()"
   ]
  },
  {
   "cell_type": "markdown",
   "metadata": {},
   "source": [
    "# Load Retrieval Results"
   ]
  },
  {
   "cell_type": "code",
   "execution_count": 6,
   "metadata": {},
   "outputs": [],
   "source": [
    "res_orig_path = f\"/root/nfs/CLIR/data/retrieval_results/bge-m3-ZH_MMARCO_50/bge-m3-ZH_MMARCO_50_neuclir_1_zh_trec-{trec_year}_zh.res.gz\""
   ]
  },
  {
   "cell_type": "code",
   "execution_count": 7,
   "metadata": {},
   "outputs": [],
   "source": [
    "res_trans_path = f\"/root/nfs/CLIR/data/retrieval_results/bge-m3-ZH_MMARCO_50/bge-m3-ZH_MMARCO_50_neuclir_1_zh_trec-{trec_year}_zh_trans_uro.res.gz\""
   ]
  },
  {
   "cell_type": "code",
   "execution_count": 10,
   "metadata": {},
   "outputs": [
    {
     "name": "stdout",
     "output_type": "stream",
     "text": [
      "Loaded results from disk: /root/nfs/CLIR/data/retrieval_results/bge-m3-ZH_MMARCO_50/bge-m3-ZH_MMARCO_50_neuclir_1_zh_trec-2023_zh.res.gz\n"
     ]
    }
   ],
   "source": [
    "res_orig = pt.io.read_results(res_orig_path)\n",
    "res_orig = res_orig.merge(queries_orig, on=\"qid\")\n",
    "print(f\"Loaded results from disk: {res_orig_path}\")"
   ]
  },
  {
   "cell_type": "code",
   "execution_count": 11,
   "metadata": {},
   "outputs": [
    {
     "name": "stdout",
     "output_type": "stream",
     "text": [
      "Loaded results from disk: /root/nfs/CLIR/data/retrieval_results/bge-m3-ZH_MMARCO_50/bge-m3-ZH_MMARCO_50_neuclir_1_zh_trec-2023_zh_trans_uro.res.gz\n"
     ]
    }
   ],
   "source": [
    "res_trans = pt.io.read_results(res_trans_path)\n",
    "res_trans = res_trans.merge(queries_translit, on=\"qid\")\n",
    "print(f\"Loaded results from disk: {res_trans_path}\")"
   ]
  },
  {
   "cell_type": "markdown",
   "metadata": {},
   "source": [
    "# Analysis"
   ]
  },
  {
   "cell_type": "markdown",
   "metadata": {},
   "source": [
    "## sample 10 qids"
   ]
  },
  {
   "cell_type": "code",
   "execution_count": 12,
   "metadata": {},
   "outputs": [],
   "source": [
    "sample = queries_orig.sample(10)"
   ]
  },
  {
   "cell_type": "code",
   "execution_count": 13,
   "metadata": {},
   "outputs": [
    {
     "data": {
      "text/html": [
       "<div>\n",
       "<style scoped>\n",
       "    .dataframe tbody tr th:only-of-type {\n",
       "        vertical-align: middle;\n",
       "    }\n",
       "\n",
       "    .dataframe tbody tr th {\n",
       "        vertical-align: top;\n",
       "    }\n",
       "\n",
       "    .dataframe thead th {\n",
       "        text-align: right;\n",
       "    }\n",
       "</style>\n",
       "<table border=\"1\" class=\"dataframe\">\n",
       "  <thead>\n",
       "    <tr style=\"text-align: right;\">\n",
       "      <th></th>\n",
       "      <th>qid</th>\n",
       "      <th>query</th>\n",
       "    </tr>\n",
       "  </thead>\n",
       "  <tbody>\n",
       "    <tr>\n",
       "      <th>51</th>\n",
       "      <td>251</td>\n",
       "      <td>影音創作者Pewdiepie聲量</td>\n",
       "    </tr>\n",
       "    <tr>\n",
       "      <th>19</th>\n",
       "      <td>219</td>\n",
       "      <td>新科技, 人工智慧 / 人工智能（AI）, 醫療</td>\n",
       "    </tr>\n",
       "    <tr>\n",
       "      <th>60</th>\n",
       "      <td>260</td>\n",
       "      <td>馬航370 海洋無限</td>\n",
       "    </tr>\n",
       "    <tr>\n",
       "      <th>28</th>\n",
       "      <td>228</td>\n",
       "      <td>5G優點和缺點</td>\n",
       "    </tr>\n",
       "    <tr>\n",
       "      <th>59</th>\n",
       "      <td>259</td>\n",
       "      <td>鬼滅之刃漫畫銷量</td>\n",
       "    </tr>\n",
       "    <tr>\n",
       "      <th>12</th>\n",
       "      <td>212</td>\n",
       "      <td>智慧城市、物联网(IoT)</td>\n",
       "    </tr>\n",
       "    <tr>\n",
       "      <th>69</th>\n",
       "      <td>269</td>\n",
       "      <td>巨石陣建造者和用途的科學發現</td>\n",
       "    </tr>\n",
       "    <tr>\n",
       "      <th>38</th>\n",
       "      <td>238</td>\n",
       "      <td>法赫里扎德遇刺美国对的反应</td>\n",
       "    </tr>\n",
       "    <tr>\n",
       "      <th>66</th>\n",
       "      <td>266</td>\n",
       "      <td>2017奧斯卡頒獎失誤</td>\n",
       "    </tr>\n",
       "    <tr>\n",
       "      <th>75</th>\n",
       "      <td>275</td>\n",
       "      <td>奧運游泳選手遴選</td>\n",
       "    </tr>\n",
       "  </tbody>\n",
       "</table>\n",
       "</div>"
      ],
      "text/plain": [
       "    qid                     query\n",
       "51  251          影音創作者Pewdiepie聲量\n",
       "19  219  新科技, 人工智慧 / 人工智能（AI）, 醫療\n",
       "60  260                馬航370 海洋無限\n",
       "28  228                   5G優點和缺點\n",
       "59  259                  鬼滅之刃漫畫銷量\n",
       "12  212             智慧城市、物联网(IoT)\n",
       "69  269            巨石陣建造者和用途的科學發現\n",
       "38  238             法赫里扎德遇刺美国对的反应\n",
       "66  266               2017奧斯卡頒獎失誤\n",
       "75  275                  奧運游泳選手遴選"
      ]
     },
     "execution_count": 13,
     "metadata": {},
     "output_type": "execute_result"
    }
   ],
   "source": [
    "sample"
   ]
  },
  {
   "cell_type": "code",
   "execution_count": 14,
   "metadata": {},
   "outputs": [
    {
     "name": "stdout",
     "output_type": "stream",
     "text": [
      "影音創作者Pewdiepie聲量\n",
      "yingyinchuangzuozhePewdiepieshengliang\n"
     ]
    }
   ],
   "source": [
    "# show text of query with qid 114 for both queries_orig and queries_translit\n",
    "qid = \"251\"\n",
    "print(queries_orig[queries_orig[\"qid\"] == qid][\"query\"].values[0])\n",
    "\n",
    "print(queries_translit[queries_translit[\"qid\"] == qid][\"query\"].values[0])"
   ]
  },
  {
   "cell_type": "code",
   "execution_count": 15,
   "metadata": {},
   "outputs": [
    {
     "name": "stdout",
     "output_type": "stream",
     "text": [
      "       qid                                 docno  rank     score\n",
      "51000  251  de07f107-88f2-459a-9d76-b886f828843d     0  0.536568\n",
      "51001  251  4d8b0105-df2a-4403-a1d9-2f53590a44d9     1  0.510152\n",
      "51002  251  dd3fdb41-678c-4182-af33-7be884584f72     2  0.504455\n",
      "51003  251  82fef4cb-85e4-4156-81cb-92efb1c20f6d     3  0.495551\n",
      "51004  251  46d36fd0-1f0f-43f8-b90c-7751c2543181     4  0.492586\n",
      "51005  251  23a4fe76-8b4a-49a5-a165-a5b29c076c6b     5  0.488505\n",
      "51006  251  fb79f6bc-dcb4-46f6-b751-f7d480b5ce50     6  0.487089\n",
      "51007  251  dd48e96f-deb3-4f55-b569-40ac5d3a19f0     7  0.482957\n",
      "51008  251  137fd728-9d1c-48a3-88d8-3d4ebcac1d96     8  0.479304\n",
      "51009  251  8e65b7e8-ca5a-4f3f-a8c7-e11c40ee42b4     9  0.478233\n",
      "       qid                                 docno  rank     score\n",
      "51000  251  dd70716a-c9ef-4e53-9d99-e7cd813372c9     0  0.469929\n",
      "51001  251  6ba2f305-1b7d-4e43-b3b6-9fea5679b446     1  0.467884\n",
      "51002  251  fce1f4e0-dfa6-4adc-b783-68aa23cf7ff0     2  0.462127\n",
      "51003  251  137fd728-9d1c-48a3-88d8-3d4ebcac1d96     3  0.461219\n",
      "51004  251  2d715c2b-398b-458e-ac77-e856b7f20966     4  0.458113\n",
      "51005  251  58961e61-f903-4005-8a5d-75a50b8d6123     5  0.456523\n",
      "51006  251  4d8b0105-df2a-4403-a1d9-2f53590a44d9     6  0.456424\n",
      "51007  251  108f74de-b603-4ee5-8d44-9f2778973b8f     7  0.455310\n",
      "51008  251  23a4fe76-8b4a-49a5-a165-a5b29c076c6b     8  0.453726\n",
      "51009  251  38004508-2ea9-4aaf-80a9-a5030725b092     9  0.450779\n"
     ]
    }
   ],
   "source": [
    "# print top 5 results for qid for both res_orig showing only the columns \"qid\", \"docno\", \"rank\" and \"score\"\n",
    "print(res_orig[res_orig[\"qid\"] == qid].head(10)[[\"qid\", \"docno\", \"rank\", \"score\"]])\n",
    "docnos_orig = res_orig[res_orig[\"qid\"] == qid].head(10)[\"docno\"].values\n",
    "\n",
    "print(res_trans[res_trans['qid'] == qid].head(10)[[\"qid\", \"docno\", \"rank\", \"score\"]])\n",
    "docnos_translit = res_trans[res_trans['qid'] == qid].head(10)[\"docno\"].values"
   ]
  },
  {
   "cell_type": "code",
   "execution_count": 16,
   "metadata": {},
   "outputs": [
    {
     "data": {
      "text/plain": [
       "['4d8b0105-df2a-4403-a1d9-2f53590a44d9',\n",
       " '23a4fe76-8b4a-49a5-a165-a5b29c076c6b',\n",
       " '137fd728-9d1c-48a3-88d8-3d4ebcac1d96']"
      ]
     },
     "execution_count": 16,
     "metadata": {},
     "output_type": "execute_result"
    }
   ],
   "source": [
    "# find the common docnos between the two sets keeping the order\n",
    "common_docnos = [docno for docno in docnos_orig if docno in docnos_translit]\n",
    "common_docnos"
   ]
  },
  {
   "cell_type": "code",
   "execution_count": 24,
   "metadata": {},
   "outputs": [
    {
     "name": "stdout",
     "output_type": "stream",
     "text": [
      "/bin/bash: /opt/miniconda3/envs/flagembedding/lib/libtinfo.so.6: no version information available (required by /bin/bash)\n",
      "17LIVE共同創辦人潘杰賢 收購台灣最大Podcast平台SoundOn - 財經\t新加坡投資顧問公司Kollective Ventures（KV）、Turn Capital、17LIVE共同創辦人潘杰賢的個人基金今（27）日宣布，收購台灣最大Podcast平台「SoundOn聲浪」。  SoundOn創辦人顧立楷表示，一直在尋找能提供SoundOn未來發展的最佳策略，KV與Turn Capital曾協助非常多新創公司快速擴張，因此成為本次募資的選擇。未來仍會以SoundOn繼續營運，希望KV和TurnCapital在不久的將來同時加速公司與產業的增長。  潘杰賢表示，本次收購是為了進一步投資與建立Podcast 生態圈。隨著Podcast市場爆發性成長，SoundOn已擁有逾70％市佔，希望今年能更迅速擴張，KV與Turn Capital也看見台灣Podcast市場具發展潛力。  SoundOn由Uber北亞洲區前總經理顧立楷成立，2019年正式上線，目前從Hosting平台（託管服務）、播放器、原創節目、Podcast廣告代理等，採一條龍布局，近萬個創作者投入成為Podcaster，SoundOn流量成長為創立時期的20倍以上。  SoundOn為台灣最大的Hosting平台，每月超過3,500萬次下載，估計在2021年此數字將增長至5億以上。  (工商 )\n"
     ]
    }
   ],
   "source": [
    "# run ir datasets docstore lookup on a docno\n",
    "docno = \"dd48e96f-deb3-4f55-b569-40ac5d3a19f0\"\n",
    "\n",
    "!ir_datasets lookup neuclir/1/zh/trec-{trec_year} $docno --fields title text"
   ]
  }
 ],
 "metadata": {
  "kernelspec": {
   "display_name": "flagembedding",
   "language": "python",
   "name": "python3"
  },
  "language_info": {
   "codemirror_mode": {
    "name": "ipython",
    "version": 3
   },
   "file_extension": ".py",
   "mimetype": "text/x-python",
   "name": "python",
   "nbconvert_exporter": "python",
   "pygments_lexer": "ipython3",
   "version": "3.10.13"
  }
 },
 "nbformat": 4,
 "nbformat_minor": 2
}
